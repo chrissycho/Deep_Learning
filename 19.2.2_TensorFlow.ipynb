{
 "cells": [
  {
   "cell_type": "code",
   "execution_count": 1,
   "metadata": {},
   "outputs": [],
   "source": [
    "# Import our dependencies\n",
    "import pandas as pd\n",
    "import matplotlib as plt\n",
    "from sklearn.datasets import make_blobs\n",
    "import sklearn as skl\n",
    "import tensorflow as tf"
   ]
  },
  {
   "cell_type": "code",
   "execution_count": 2,
   "metadata": {},
   "outputs": [
    {
     "data": {
      "text/plain": [
       "<matplotlib.axes._subplots.AxesSubplot at 0x7f89595170d0>"
      ]
     },
     "execution_count": 2,
     "metadata": {},
     "output_type": "execute_result"
    },
    {
     "data": {
      "image/png": "[encoded data removed]",
      "text/plain": [
       "<Figure size 432x288 with 2 Axes>"
      ]
     },
     "metadata": {
      "needs_background": "light"
     },
     "output_type": "display_data"
    }
   ],
   "source": [
    "# Generate dummy dataset\n",
    "X, y = make_blobs(n_samples=1000, centers=2, n_features=2, random_state=78)\n",
    "\n",
    "# Creating a DataFrame with the dummy data\n",
    "df = pd.DataFrame(X, columns=[\"Feature 1\", \"Feature 2\"])\n",
    "df[\"Target\"] = y\n",
    "\n",
    "# Plotting the dummy data\n",
    "df.plot.scatter(x=\"Feature 1\", y=\"Feature 2\", c=\"Target\", colormap=\"winter\")"
   ]
  },
  {
   "cell_type": "code",
   "execution_count": 3,
   "metadata": {},
   "outputs": [],
   "source": [
    "# Use sklearn to split dataset\n",
    "from sklearn.model_selection import train_test_split\n",
    "X_train, X_test, y_train, y_test = train_test_split(X, y, random_state=78)"
   ]
  },
  {
   "cell_type": "code",
   "execution_count": 4,
   "metadata": {},
   "outputs": [],
   "source": [
    "# Create scaler instance\n",
    "X_scaler = skl.preprocessing.StandardScaler()\n",
    "\n",
    "# Fit the scaler\n",
    "X_scaler.fit(X_train)\n",
    "\n",
    "# Scale the data\n",
    "X_train_scaled = X_scaler.transform(X_train)\n",
    "X_test_scaled = X_scaler.transform(X_test)\n"
   ]
  },
  {
   "cell_type": "code",
   "execution_count": 5,
   "metadata": {},
   "outputs": [],
   "source": [
    "# Create the Keras Sequential model\n",
    "nn_model = tf.keras.models.Sequential()"
   ]
  },
  {
   "cell_type": "code",
   "execution_count": 6,
   "metadata": {},
   "outputs": [],
   "source": [
    "# Add our first Dense layer, including the input layer\n",
    "nn_model.add(tf.keras.layers.Dense(units=1, activation=\"relu\", input_dim=2))"
   ]
  },
  {
   "cell_type": "code",
   "execution_count": 7,
   "metadata": {},
   "outputs": [],
   "source": [
    "# Add the output layer that uses a probability activation function\n",
    "nn_model.add(tf.keras.layers.Dense(units=1, activation=\"sigmoid\"))"
   ]
  },
  {
   "cell_type": "code",
   "execution_count": 8,
   "metadata": {},
   "outputs": [
    {
     "name": "stdout",
     "output_type": "stream",
     "text": [
      "Model: \"sequential\"\n",
      "_________________________________________________________________\n",
      "Layer (type)                 Output Shape              Param #   \n",
      "=================================================================\n",
      "dense (Dense)                (None, 1)                 3         \n",
      "_________________________________________________________________\n",
      "dense_1 (Dense)              (None, 1)                 2         \n",
      "=================================================================\n",
      "Total params: 5\n",
      "Trainable params: 5\n",
      "Non-trainable params: 0\n",
      "_________________________________________________________________\n"
     ]
    }
   ],
   "source": [
    "# Check the structure of the Sequential model\n",
    "nn_model.summary()"
   ]
  },
  {
   "cell_type": "code",
   "execution_count": 9,
   "metadata": {},
   "outputs": [],
   "source": [
    "# Compile the Sequential model together and customize metrics\n",
    "nn_model.compile(loss=\"binary_crossentropy\", optimizer=\"adam\", metrics=[\"accuracy\"])"
   ]
  },
  {
   "cell_type": "code",
   "execution_count": 10,
   "metadata": {},
   "outputs": [
    {
     "name": "stdout",
     "output_type": "stream",
     "text": [
      "Train on 750 samples\n",
      "Epoch 1/100\n",
      "750/750 [==============================] - 2s 2ms/sample - loss: 1.3835 - accuracy: 0.0227\n",
      "Epoch 2/100\n",
      "750/750 [==============================] - 0s 94us/sample - loss: 1.3235 - accuracy: 0.0000e+00\n",
      "Epoch 3/100\n",
      "750/750 [==============================] - 0s 89us/sample - loss: 1.2696 - accuracy: 0.0000e+00\n",
      "Epoch 4/100\n",
      "750/750 [==============================] - 0s 88us/sample - loss: 1.2171 - accuracy: 0.0000e+00\n",
      "Epoch 5/100\n",
      "750/750 [==============================] - 0s 89us/sample - loss: 1.1689 - accuracy: 0.0000e+00\n",
      "Epoch 6/100\n",
      "750/750 [==============================] - 0s 88us/sample - loss: 1.1246 - accuracy: 0.0000e+00\n",
      "Epoch 7/100\n",
      "750/750 [==============================] - 0s 88us/sample - loss: 1.0822 - accuracy: 0.0000e+00\n",
      "Epoch 8/100\n",
      "750/750 [==============================] - 0s 87us/sample - loss: 1.0446 - accuracy: 0.0000e+00\n",
      "Epoch 9/100\n",
      "750/750 [==============================] - 0s 88us/sample - loss: 1.0088 - accuracy: 0.0000e+00\n",
      "Epoch 10/100\n",
      "750/750 [==============================] - 0s 96us/sample - loss: 0.9772 - accuracy: 0.0000e+00\n",
      "Epoch 11/100\n",
      "750/750 [==============================] - 0s 88us/sample - loss: 0.9469 - accuracy: 0.0000e+00\n",
      "Epoch 12/100\n",
      "750/750 [==============================] - 0s 88us/sample - loss: 0.9193 - accuracy: 0.0000e+00\n",
      "Epoch 13/100\n",
      "750/750 [==============================] - 0s 86us/sample - loss: 0.8940 - accuracy: 0.0000e+00\n",
      "Epoch 14/100\n",
      "750/750 [==============================] - 0s 89us/sample - loss: 0.8702 - accuracy: 0.0000e+00\n",
      "Epoch 15/100\n",
      "750/750 [==============================] - 0s 91us/sample - loss: 0.8483 - accuracy: 0.0000e+00\n",
      "Epoch 16/100\n",
      "750/750 [==============================] - 0s 87us/sample - loss: 0.8281 - accuracy: 0.0013\n",
      "Epoch 17/100\n",
      "750/750 [==============================] - 0s 106us/sample - loss: 0.8091 - accuracy: 0.0107\n",
      "Epoch 18/100\n",
      "750/750 [==============================] - 0s 90us/sample - loss: 0.7912 - accuracy: 0.0293\n",
      "Epoch 19/100\n",
      "750/750 [==============================] - 0s 135us/sample - loss: 0.7744 - accuracy: 0.0880\n",
      "Epoch 20/100\n",
      "750/750 [==============================] - 0s 88us/sample - loss: 0.7588 - accuracy: 0.1467\n",
      "Epoch 21/100\n",
      "750/750 [==============================] - 0s 88us/sample - loss: 0.7449 - accuracy: 0.2253\n",
      "Epoch 22/100\n",
      "750/750 [==============================] - 0s 178us/sample - loss: 0.7334 - accuracy: 0.3053\n",
      "Epoch 23/100\n",
      "750/750 [==============================] - 0s 201us/sample - loss: 0.7247 - accuracy: 0.3520\n",
      "Epoch 24/100\n",
      "750/750 [==============================] - 0s 105us/sample - loss: 0.7180 - accuracy: 0.3800\n",
      "Epoch 25/100\n",
      "750/750 [==============================] - 0s 100us/sample - loss: 0.7130 - accuracy: 0.4160\n",
      "Epoch 26/100\n",
      "750/750 [==============================] - 0s 103us/sample - loss: 0.7095 - accuracy: 0.4267\n",
      "Epoch 27/100\n",
      "750/750 [==============================] - 0s 95us/sample - loss: 0.7069 - accuracy: 0.4360\n",
      "Epoch 28/100\n",
      "750/750 [==============================] - 0s 149us/sample - loss: 0.7047 - accuracy: 0.4427\n",
      "Epoch 29/100\n",
      "750/750 [==============================] - 0s 98us/sample - loss: 0.7030 - accuracy: 0.4520\n",
      "Epoch 30/100\n",
      "750/750 [==============================] - 0s 92us/sample - loss: 0.7016 - accuracy: 0.4587\n",
      "Epoch 31/100\n",
      "750/750 [==============================] - 0s 87us/sample - loss: 0.7006 - accuracy: 0.4587\n",
      "Epoch 32/100\n",
      "750/750 [==============================] - 0s 89us/sample - loss: 0.6997 - accuracy: 0.4640\n",
      "Epoch 33/100\n",
      "750/750 [==============================] - 0s 103us/sample - loss: 0.6990 - accuracy: 0.4640\n",
      "Epoch 34/100\n",
      "750/750 [==============================] - 0s 124us/sample - loss: 0.6983 - accuracy: 0.4653\n",
      "Epoch 35/100\n",
      "750/750 [==============================] - 0s 102us/sample - loss: 0.6978 - accuracy: 0.4667\n",
      "Epoch 36/100\n",
      "750/750 [==============================] - 0s 116us/sample - loss: 0.6973 - accuracy: 0.4680\n",
      "Epoch 37/100\n",
      "750/750 [==============================] - 0s 117us/sample - loss: 0.6969 - accuracy: 0.4680\n",
      "Epoch 38/100\n",
      "750/750 [==============================] - 0s 106us/sample - loss: 0.6965 - accuracy: 0.4680\n",
      "Epoch 39/100\n",
      "750/750 [==============================] - 0s 89us/sample - loss: 0.6962 - accuracy: 0.4680\n",
      "Epoch 40/100\n",
      "750/750 [==============================] - 0s 89us/sample - loss: 0.6958 - accuracy: 0.4707\n",
      "Epoch 41/100\n",
      "750/750 [==============================] - 0s 90us/sample - loss: 0.6956 - accuracy: 0.4720\n",
      "Epoch 42/100\n",
      "750/750 [==============================] - 0s 89us/sample - loss: 0.6954 - accuracy: 0.4720\n",
      "Epoch 43/100\n",
      "750/750 [==============================] - 0s 88us/sample - loss: 0.6952 - accuracy: 0.4720\n",
      "Epoch 44/100\n",
      "750/750 [==============================] - 0s 88us/sample - loss: 0.6950 - accuracy: 0.4733\n",
      "Epoch 45/100\n",
      "750/750 [==============================] - 0s 107us/sample - loss: 0.6949 - accuracy: 0.4733\n",
      "Epoch 46/100\n",
      "750/750 [==============================] - 0s 89us/sample - loss: 0.6947 - accuracy: 0.4733\n",
      "Epoch 47/100\n",
      "750/750 [==============================] - 0s 90us/sample - loss: 0.6946 - accuracy: 0.4733\n",
      "Epoch 48/100\n",
      "750/750 [==============================] - 0s 115us/sample - loss: 0.6945 - accuracy: 0.4733\n",
      "Epoch 49/100\n",
      "750/750 [==============================] - 0s 99us/sample - loss: 0.6943 - accuracy: 0.4733\n",
      "Epoch 50/100\n",
      "750/750 [==============================] - 0s 95us/sample - loss: 0.6942 - accuracy: 0.4760\n",
      "Epoch 51/100\n",
      "750/750 [==============================] - 0s 88us/sample - loss: 0.6941 - accuracy: 0.4760\n",
      "Epoch 52/100\n",
      "750/750 [==============================] - 0s 88us/sample - loss: 0.6941 - accuracy: 0.4760\n",
      "Epoch 53/100\n",
      "750/750 [==============================] - 0s 88us/sample - loss: 0.6940 - accuracy: 0.4760\n",
      "Epoch 54/100\n",
      "750/750 [==============================] - 0s 87us/sample - loss: 0.6939 - accuracy: 0.4760\n",
      "Epoch 55/100\n",
      "750/750 [==============================] - 0s 90us/sample - loss: 0.6938 - accuracy: 0.4760\n",
      "Epoch 56/100\n",
      "750/750 [==============================] - 0s 86us/sample - loss: 0.6938 - accuracy: 0.4787\n",
      "Epoch 57/100\n",
      "750/750 [==============================] - 0s 88us/sample - loss: 0.6937 - accuracy: 0.4787\n",
      "Epoch 58/100\n",
      "750/750 [==============================] - 0s 87us/sample - loss: 0.6937 - accuracy: 0.4787\n",
      "Epoch 59/100\n",
      "750/750 [==============================] - 0s 90us/sample - loss: 0.6936 - accuracy: 0.4787\n",
      "Epoch 60/100\n",
      "750/750 [==============================] - 0s 88us/sample - loss: 0.6935 - accuracy: 0.4800\n",
      "Epoch 61/100\n",
      "750/750 [==============================] - 0s 87us/sample - loss: 0.6935 - accuracy: 0.4813\n",
      "Epoch 62/100\n",
      "750/750 [==============================] - 0s 90us/sample - loss: 0.6935 - accuracy: 0.4813\n",
      "Epoch 63/100\n",
      "750/750 [==============================] - 0s 100us/sample - loss: 0.6934 - accuracy: 0.4813\n",
      "Epoch 64/100\n",
      "750/750 [==============================] - 0s 88us/sample - loss: 0.6934 - accuracy: 0.4813\n",
      "Epoch 65/100\n",
      "750/750 [==============================] - 0s 87us/sample - loss: 0.6934 - accuracy: 0.4787\n",
      "Epoch 66/100\n",
      "750/750 [==============================] - 0s 89us/sample - loss: 0.6933 - accuracy: 0.5067\n",
      "Epoch 67/100\n",
      "750/750 [==============================] - 0s 91us/sample - loss: 0.6933 - accuracy: 0.5067\n",
      "Epoch 68/100\n",
      "750/750 [==============================] - 0s 88us/sample - loss: 0.6933 - accuracy: 0.5067\n",
      "Epoch 69/100\n",
      "750/750 [==============================] - 0s 94us/sample - loss: 0.6933 - accuracy: 0.5067\n",
      "Epoch 70/100\n",
      "750/750 [==============================] - 0s 87us/sample - loss: 0.6933 - accuracy: 0.5067\n",
      "Epoch 71/100\n",
      "750/750 [==============================] - 0s 91us/sample - loss: 0.6932 - accuracy: 0.5067\n",
      "Epoch 72/100\n",
      "750/750 [==============================] - 0s 88us/sample - loss: 0.6932 - accuracy: 0.5067\n",
      "Epoch 73/100\n",
      "750/750 [==============================] - 0s 88us/sample - loss: 0.6932 - accuracy: 0.5067\n",
      "Epoch 74/100\n",
      "750/750 [==============================] - 0s 88us/sample - loss: 0.6932 - accuracy: 0.5067\n",
      "Epoch 75/100\n",
      "750/750 [==============================] - 0s 111us/sample - loss: 0.6932 - accuracy: 0.5067\n",
      "Epoch 76/100\n",
      "750/750 [==============================] - 0s 90us/sample - loss: 0.6932 - accuracy: 0.5067\n",
      "Epoch 77/100\n",
      "750/750 [==============================] - 0s 108us/sample - loss: 0.6932 - accuracy: 0.5067\n",
      "Epoch 78/100\n",
      "750/750 [==============================] - 0s 90us/sample - loss: 0.6932 - accuracy: 0.5067\n",
      "Epoch 79/100\n",
      "750/750 [==============================] - 0s 94us/sample - loss: 0.6931 - accuracy: 0.5067\n",
      "Epoch 80/100\n",
      "750/750 [==============================] - 0s 91us/sample - loss: 0.6931 - accuracy: 0.5067\n",
      "Epoch 81/100\n",
      "750/750 [==============================] - 0s 90us/sample - loss: 0.6931 - accuracy: 0.5067\n",
      "Epoch 82/100\n",
      "750/750 [==============================] - 0s 91us/sample - loss: 0.6931 - accuracy: 0.5067\n",
      "Epoch 83/100\n",
      "750/750 [==============================] - 0s 87us/sample - loss: 0.6931 - accuracy: 0.5067\n",
      "Epoch 84/100\n",
      "750/750 [==============================] - 0s 92us/sample - loss: 0.6931 - accuracy: 0.5067\n",
      "Epoch 85/100\n",
      "750/750 [==============================] - 0s 87us/sample - loss: 0.6931 - accuracy: 0.5067\n",
      "Epoch 86/100\n",
      "750/750 [==============================] - 0s 98us/sample - loss: 0.6932 - accuracy: 0.5067\n",
      "Epoch 87/100\n",
      "750/750 [==============================] - 0s 110us/sample - loss: 0.6931 - accuracy: 0.5067\n",
      "Epoch 88/100\n",
      "750/750 [==============================] - 0s 102us/sample - loss: 0.6931 - accuracy: 0.5067\n",
      "Epoch 89/100\n",
      "750/750 [==============================] - 0s 104us/sample - loss: 0.6931 - accuracy: 0.5067\n",
      "Epoch 90/100\n",
      "750/750 [==============================] - 0s 89us/sample - loss: 0.6932 - accuracy: 0.5067\n",
      "Epoch 91/100\n",
      "750/750 [==============================] - 0s 101us/sample - loss: 0.6931 - accuracy: 0.5067\n",
      "Epoch 92/100\n",
      "750/750 [==============================] - 0s 113us/sample - loss: 0.6931 - accuracy: 0.5067\n",
      "Epoch 93/100\n",
      "750/750 [==============================] - 0s 89us/sample - loss: 0.6931 - accuracy: 0.5067\n",
      "Epoch 94/100\n",
      "750/750 [==============================] - 0s 103us/sample - loss: 0.6931 - accuracy: 0.5067\n",
      "Epoch 95/100\n",
      "750/750 [==============================] - 0s 88us/sample - loss: 0.6931 - accuracy: 0.5067\n",
      "Epoch 96/100\n",
      "750/750 [==============================] - 0s 95us/sample - loss: 0.6931 - accuracy: 0.5067\n",
      "Epoch 97/100\n",
      "750/750 [==============================] - 0s 127us/sample - loss: 0.6931 - accuracy: 0.5067\n",
      "Epoch 98/100\n",
      "750/750 [==============================] - 0s 89us/sample - loss: 0.6931 - accuracy: 0.5067\n",
      "Epoch 99/100\n",
      "750/750 [==============================] - 0s 97us/sample - loss: 0.6931 - accuracy: 0.5067\n",
      "Epoch 100/100\n",
      "750/750 [==============================] - 0s 101us/sample - loss: 0.6931 - accuracy: 0.5067\n"
     ]
    }
   ],
   "source": [
    "# Fit the model to the training data\n",
    "fit_model = nn_model.fit(X_train_scaled, y_train, epochs=100)"
   ]
  },
  {
   "cell_type": "code",
   "execution_count": 11,
   "metadata": {},
   "outputs": [
    {
     "data": {
      "text/plain": [
       "<matplotlib.axes._subplots.AxesSubplot at 0x7f895afa4650>"
      ]
     },
     "execution_count": 11,
     "metadata": {},
     "output_type": "execute_result"
    },
    {
     "data": {
      "image/png": "[encoded data removed]",
      "text/plain": [
       "<Figure size 432x288 with 1 Axes>"
      ]
     },
     "metadata": {
      "needs_background": "light"
     },
     "output_type": "display_data"
    }
   ],
   "source": [
    "# Create a DataFrame containing training history\n",
    "history_df = pd.DataFrame(fit_model.history, index=range(1,len(fit_model.history[\"loss\"])+1))\n",
    "\n",
    "# Plot the loss\n",
    "history_df.plot(y=\"loss\")"
   ]
  },
  {
   "cell_type": "code",
   "execution_count": 12,
   "metadata": {},
   "outputs": [
    {
     "data": {
      "text/plain": [
       "<matplotlib.axes._subplots.AxesSubplot at 0x7f895b331710>"
      ]
     },
     "execution_count": 12,
     "metadata": {},
     "output_type": "execute_result"
    },
    {
     "data": {
      "image/png": "[encoded data removed]",
      "text/plain": [
       "<Figure size 432x288 with 1 Axes>"
      ]
     },
     "metadata": {
      "needs_background": "light"
     },
     "output_type": "display_data"
    }
   ],
   "source": [
    "# Plot the accuracy\n",
    "history_df.plot(y=\"accuracy\")"
   ]
  },
  {
   "cell_type": "code",
   "execution_count": 13,
   "metadata": {},
   "outputs": [
    {
     "name": "stdout",
     "output_type": "stream",
     "text": [
      "250/1 - 0s - loss: 0.6921 - accuracy: 0.4800\n",
      "Loss: 0.6936570129394531, Accuracy: 0.47999998927116394\n"
     ]
    }
   ],
   "source": [
    "# Evaluate the model using the test data\n",
    "model_loss, model_accuracy = nn_model.evaluate(X_test_scaled,y_test,verbose=2)\n",
    "print(f\"Loss: {model_loss}, Accuracy: {model_accuracy}\")"
   ]
  },
  {
   "cell_type": "code",
   "execution_count": 14,
   "metadata": {},
   "outputs": [
    {
     "data": {
      "text/plain": [
       "array([[0],\n",
       "       [0],\n",
       "       [0],\n",
       "       [0],\n",
       "       [0],\n",
       "       [0],\n",
       "       [0],\n",
       "       [0],\n",
       "       [0],\n",
       "       [0]], dtype=int32)"
      ]
     },
     "execution_count": 14,
     "metadata": {},
     "output_type": "execute_result"
    }
   ],
   "source": [
    "# Predict the classification of a new set of blob data\n",
    "new_X, new_Y = make_blobs(n_samples=10, centers=2, n_features=2, random_state=78)\n",
    "new_X_scaled = X_scaler.transform(new_X)\n",
    "nn_model.predict_classes(new_X_scaled)"
   ]
  },
  {
   "cell_type": "markdown",
   "metadata": {},
   "source": [
    "## Apply the basic neural network to Nonlinear Data"
   ]
  },
  {
   "cell_type": "code",
   "execution_count": 15,
   "metadata": {},
   "outputs": [
    {
     "data": {
      "text/plain": [
       "<matplotlib.axes._subplots.AxesSubplot at 0x7f895b3f6250>"
      ]
     },
     "execution_count": 15,
     "metadata": {},
     "output_type": "execute_result"
    },
    {
     "data": {
      "image/png": "[encoded data removed]",
      "text/plain": [
       "<Figure size 432x288 with 2 Axes>"
      ]
     },
     "metadata": {
      "needs_background": "light"
     },
     "output_type": "display_data"
    }
   ],
   "source": [
    "from sklearn.datasets import make_moons\n",
    "\n",
    "# Creating dummy nonlinear data\n",
    "X_moons, y_moons = make_moons(n_samples=1000, noise=0.08, random_state=78)\n",
    "\n",
    "# Transforming y_moons to a vertical vector\n",
    "y_moons = y_moons.reshape(-1, 1)\n",
    "\n",
    "# Creating a DataFrame to plot the nonlinear dummy data\n",
    "df_moons = pd.DataFrame(X_moons, columns=[\"Feature 1\", \"Feature 2\"])\n",
    "df_moons[\"Target\"] = y_moons\n",
    "\n",
    "# Plot the nonlinear dummy data\n",
    "df_moons.plot.scatter(x=\"Feature 1\",y=\"Feature 2\", c=\"Target\",colormap=\"winter\")"
   ]
  },
  {
   "cell_type": "markdown",
   "metadata": {},
   "source": [
    "### split the datasets & normalize them"
   ]
  },
  {
   "cell_type": "code",
   "execution_count": 16,
   "metadata": {},
   "outputs": [],
   "source": [
    "# Create training and testing sets\n",
    "X_moon_train, X_moon_test, y_moon_train, y_moon_test = train_test_split(\n",
    "    X_moons, y_moons, random_state=78\n",
    ")\n",
    "\n",
    "# Create the scaler instance\n",
    "X_moon_scaler = skl.preprocessing.StandardScaler()\n",
    "\n",
    "# Fit the scaler\n",
    "X_moon_scaler.fit(X_moon_train)\n",
    "\n",
    "# Scale the data\n",
    "X_moon_train_scaled = X_moon_scaler.transform(X_moon_train)\n",
    "X_moon_test_scaled = X_moon_scaler.transform(X_moon_test)"
   ]
  },
  {
   "cell_type": "code",
   "execution_count": 17,
   "metadata": {},
   "outputs": [
    {
     "name": "stdout",
     "output_type": "stream",
     "text": [
      "Train on 750 samples\n",
      "Epoch 1/100\n",
      "750/750 [==============================] - 0s 267us/sample - loss: 0.7030 - accuracy: 0.5307\n",
      "Epoch 2/100\n",
      "750/750 [==============================] - 0s 122us/sample - loss: 0.6965 - accuracy: 0.5307\n",
      "Epoch 3/100\n",
      "750/750 [==============================] - 0s 118us/sample - loss: 0.6932 - accuracy: 0.5307\n",
      "Epoch 4/100\n",
      "750/750 [==============================] - 0s 164us/sample - loss: 0.6924 - accuracy: 0.5307\n",
      "Epoch 5/100\n",
      "750/750 [==============================] - 0s 152us/sample - loss: 0.6922 - accuracy: 0.5307\n",
      "Epoch 6/100\n",
      "750/750 [==============================] - 0s 106us/sample - loss: 0.6921 - accuracy: 0.5307\n",
      "Epoch 7/100\n",
      "750/750 [==============================] - 0s 121us/sample - loss: 0.6920 - accuracy: 0.5307\n",
      "Epoch 8/100\n",
      "750/750 [==============================] - 0s 128us/sample - loss: 0.6919 - accuracy: 0.5307\n",
      "Epoch 9/100\n",
      "750/750 [==============================] - 0s 169us/sample - loss: 0.6918 - accuracy: 0.5307\n",
      "Epoch 10/100\n",
      "750/750 [==============================] - 0s 226us/sample - loss: 0.6917 - accuracy: 0.5307\n",
      "Epoch 11/100\n",
      "750/750 [==============================] - 0s 167us/sample - loss: 0.6916 - accuracy: 0.5307\n",
      "Epoch 12/100\n",
      "750/750 [==============================] - 0s 150us/sample - loss: 0.6916 - accuracy: 0.5307\n",
      "Epoch 13/100\n",
      "750/750 [==============================] - 0s 186us/sample - loss: 0.6915 - accuracy: 0.5307\n",
      "Epoch 14/100\n",
      "750/750 [==============================] - 0s 182us/sample - loss: 0.6915 - accuracy: 0.5307\n",
      "Epoch 15/100\n",
      "750/750 [==============================] - 0s 225us/sample - loss: 0.6915 - accuracy: 0.5307\n",
      "Epoch 16/100\n",
      "750/750 [==============================] - 0s 245us/sample - loss: 0.6915 - accuracy: 0.5307\n",
      "Epoch 17/100\n",
      "750/750 [==============================] - 0s 234us/sample - loss: 0.6914 - accuracy: 0.5307\n",
      "Epoch 18/100\n",
      "750/750 [==============================] - 0s 167us/sample - loss: 0.6914 - accuracy: 0.5307\n",
      "Epoch 19/100\n",
      "750/750 [==============================] - 0s 183us/sample - loss: 0.6914 - accuracy: 0.5307\n",
      "Epoch 20/100\n",
      "750/750 [==============================] - 0s 150us/sample - loss: 0.6914 - accuracy: 0.5307\n",
      "Epoch 21/100\n",
      "750/750 [==============================] - 0s 112us/sample - loss: 0.6914 - accuracy: 0.5307\n",
      "Epoch 22/100\n",
      "750/750 [==============================] - 0s 87us/sample - loss: 0.6914 - accuracy: 0.5307\n",
      "Epoch 23/100\n",
      "750/750 [==============================] - 0s 104us/sample - loss: 0.6914 - accuracy: 0.5307\n",
      "Epoch 24/100\n",
      "750/750 [==============================] - 0s 126us/sample - loss: 0.6913 - accuracy: 0.5307\n",
      "Epoch 25/100\n",
      "750/750 [==============================] - 0s 95us/sample - loss: 0.6913 - accuracy: 0.5307\n",
      "Epoch 26/100\n",
      "750/750 [==============================] - 0s 85us/sample - loss: 0.6913 - accuracy: 0.5307\n",
      "Epoch 27/100\n",
      "750/750 [==============================] - 0s 87us/sample - loss: 0.6913 - accuracy: 0.5307\n",
      "Epoch 28/100\n",
      "750/750 [==============================] - 0s 86us/sample - loss: 0.6913 - accuracy: 0.5307\n",
      "Epoch 29/100\n",
      "750/750 [==============================] - 0s 87us/sample - loss: 0.6913 - accuracy: 0.5307\n",
      "Epoch 30/100\n",
      "750/750 [==============================] - 0s 95us/sample - loss: 0.6913 - accuracy: 0.5307\n",
      "Epoch 31/100\n",
      "750/750 [==============================] - 0s 88us/sample - loss: 0.6913 - accuracy: 0.5307\n",
      "Epoch 32/100\n",
      "750/750 [==============================] - 0s 89us/sample - loss: 0.6913 - accuracy: 0.5307\n",
      "Epoch 33/100\n",
      "750/750 [==============================] - 0s 86us/sample - loss: 0.6913 - accuracy: 0.5307\n",
      "Epoch 34/100\n",
      "750/750 [==============================] - 0s 88us/sample - loss: 0.6913 - accuracy: 0.5307\n",
      "Epoch 35/100\n",
      "750/750 [==============================] - 0s 87us/sample - loss: 0.6913 - accuracy: 0.5307\n",
      "Epoch 36/100\n",
      "750/750 [==============================] - 0s 92us/sample - loss: 0.6913 - accuracy: 0.5307\n",
      "Epoch 37/100\n",
      "750/750 [==============================] - 0s 88us/sample - loss: 0.6913 - accuracy: 0.5307\n",
      "Epoch 38/100\n",
      "750/750 [==============================] - 0s 90us/sample - loss: 0.6913 - accuracy: 0.5307\n",
      "Epoch 39/100\n",
      "750/750 [==============================] - 0s 92us/sample - loss: 0.6913 - accuracy: 0.5307\n",
      "Epoch 40/100\n",
      "750/750 [==============================] - 0s 94us/sample - loss: 0.6913 - accuracy: 0.5307\n",
      "Epoch 41/100\n",
      "750/750 [==============================] - 0s 101us/sample - loss: 0.6913 - accuracy: 0.5307\n",
      "Epoch 42/100\n",
      "750/750 [==============================] - 0s 101us/sample - loss: 0.6913 - accuracy: 0.5307\n",
      "Epoch 43/100\n",
      "750/750 [==============================] - 0s 98us/sample - loss: 0.6913 - accuracy: 0.5307\n",
      "Epoch 44/100\n",
      "750/750 [==============================] - 0s 97us/sample - loss: 0.6913 - accuracy: 0.5307\n",
      "Epoch 45/100\n",
      "750/750 [==============================] - 0s 105us/sample - loss: 0.6913 - accuracy: 0.5307\n",
      "Epoch 46/100\n",
      "750/750 [==============================] - 0s 93us/sample - loss: 0.6913 - accuracy: 0.5307\n",
      "Epoch 47/100\n",
      "750/750 [==============================] - 0s 111us/sample - loss: 0.6913 - accuracy: 0.5307\n",
      "Epoch 48/100\n",
      "750/750 [==============================] - 0s 103us/sample - loss: 0.6913 - accuracy: 0.5307\n",
      "Epoch 49/100\n",
      "750/750 [==============================] - 0s 86us/sample - loss: 0.6913 - accuracy: 0.5307\n",
      "Epoch 50/100\n",
      "750/750 [==============================] - 0s 86us/sample - loss: 0.6913 - accuracy: 0.5307\n",
      "Epoch 51/100\n",
      "750/750 [==============================] - 0s 93us/sample - loss: 0.6913 - accuracy: 0.5307\n",
      "Epoch 52/100\n",
      "750/750 [==============================] - 0s 85us/sample - loss: 0.6913 - accuracy: 0.5307\n",
      "Epoch 53/100\n",
      "750/750 [==============================] - 0s 106us/sample - loss: 0.6913 - accuracy: 0.5307\n",
      "Epoch 54/100\n",
      "750/750 [==============================] - 0s 85us/sample - loss: 0.6913 - accuracy: 0.5307\n",
      "Epoch 55/100\n",
      "750/750 [==============================] - 0s 87us/sample - loss: 0.6913 - accuracy: 0.5307\n",
      "Epoch 56/100\n",
      "750/750 [==============================] - 0s 85us/sample - loss: 0.6913 - accuracy: 0.5307\n",
      "Epoch 57/100\n",
      "750/750 [==============================] - 0s 101us/sample - loss: 0.6913 - accuracy: 0.5307\n",
      "Epoch 58/100\n",
      "750/750 [==============================] - 0s 115us/sample - loss: 0.6913 - accuracy: 0.5307 - loss: 0.6914 - accuracy: 0.52\n",
      "Epoch 59/100\n",
      "750/750 [==============================] - 0s 118us/sample - loss: 0.6913 - accuracy: 0.5307\n",
      "Epoch 60/100\n",
      "750/750 [==============================] - 0s 86us/sample - loss: 0.6913 - accuracy: 0.5307\n",
      "Epoch 61/100\n",
      "750/750 [==============================] - 0s 90us/sample - loss: 0.6913 - accuracy: 0.5307\n",
      "Epoch 62/100\n",
      "750/750 [==============================] - 0s 98us/sample - loss: 0.6913 - accuracy: 0.5307\n",
      "Epoch 63/100\n",
      "750/750 [==============================] - 0s 96us/sample - loss: 0.6913 - accuracy: 0.5307\n",
      "Epoch 64/100\n",
      "750/750 [==============================] - 0s 125us/sample - loss: 0.6913 - accuracy: 0.5307\n",
      "Epoch 65/100\n",
      "750/750 [==============================] - 0s 95us/sample - loss: 0.6913 - accuracy: 0.5307\n",
      "Epoch 66/100\n",
      "750/750 [==============================] - 0s 105us/sample - loss: 0.6913 - accuracy: 0.5307\n",
      "Epoch 67/100\n",
      "750/750 [==============================] - 0s 99us/sample - loss: 0.6913 - accuracy: 0.5307\n",
      "Epoch 68/100\n",
      "750/750 [==============================] - 0s 86us/sample - loss: 0.6913 - accuracy: 0.5307\n",
      "Epoch 69/100\n",
      "750/750 [==============================] - 0s 99us/sample - loss: 0.6913 - accuracy: 0.5307\n",
      "Epoch 70/100\n",
      "750/750 [==============================] - 0s 87us/sample - loss: 0.6913 - accuracy: 0.5307\n",
      "Epoch 71/100\n",
      "750/750 [==============================] - 0s 87us/sample - loss: 0.6913 - accuracy: 0.5307\n",
      "Epoch 72/100\n",
      "750/750 [==============================] - 0s 88us/sample - loss: 0.6913 - accuracy: 0.5307\n",
      "Epoch 73/100\n",
      "750/750 [==============================] - 0s 88us/sample - loss: 0.6913 - accuracy: 0.5307\n",
      "Epoch 74/100\n",
      "750/750 [==============================] - 0s 114us/sample - loss: 0.6913 - accuracy: 0.5307\n",
      "Epoch 75/100\n",
      "750/750 [==============================] - 0s 98us/sample - loss: 0.6913 - accuracy: 0.5307\n",
      "Epoch 76/100\n",
      "750/750 [==============================] - 0s 85us/sample - loss: 0.6913 - accuracy: 0.5307\n",
      "Epoch 77/100\n",
      "750/750 [==============================] - 0s 86us/sample - loss: 0.6913 - accuracy: 0.5307\n",
      "Epoch 78/100\n",
      "750/750 [==============================] - 0s 85us/sample - loss: 0.6913 - accuracy: 0.5307\n",
      "Epoch 79/100\n",
      "750/750 [==============================] - 0s 93us/sample - loss: 0.6913 - accuracy: 0.5307\n",
      "Epoch 80/100\n",
      "750/750 [==============================] - 0s 88us/sample - loss: 0.6913 - accuracy: 0.5307\n",
      "Epoch 81/100\n",
      "750/750 [==============================] - 0s 85us/sample - loss: 0.6913 - accuracy: 0.5307\n",
      "Epoch 82/100\n",
      "750/750 [==============================] - 0s 94us/sample - loss: 0.6913 - accuracy: 0.5307\n",
      "Epoch 83/100\n",
      "750/750 [==============================] - 0s 87us/sample - loss: 0.6913 - accuracy: 0.5307\n",
      "Epoch 84/100\n",
      "750/750 [==============================] - 0s 120us/sample - loss: 0.6913 - accuracy: 0.5307\n",
      "Epoch 85/100\n",
      "750/750 [==============================] - 0s 90us/sample - loss: 0.6913 - accuracy: 0.5307\n",
      "Epoch 86/100\n",
      "750/750 [==============================] - 0s 86us/sample - loss: 0.6913 - accuracy: 0.5307\n",
      "Epoch 87/100\n",
      "750/750 [==============================] - 0s 89us/sample - loss: 0.6913 - accuracy: 0.5307\n",
      "Epoch 88/100\n",
      "750/750 [==============================] - 0s 90us/sample - loss: 0.6913 - accuracy: 0.5307\n",
      "Epoch 89/100\n",
      "750/750 [==============================] - 0s 92us/sample - loss: 0.6913 - accuracy: 0.5307\n",
      "Epoch 90/100\n",
      "750/750 [==============================] - 0s 103us/sample - loss: 0.6913 - accuracy: 0.5307\n",
      "Epoch 91/100\n",
      "750/750 [==============================] - 0s 113us/sample - loss: 0.6913 - accuracy: 0.5307\n",
      "Epoch 92/100\n",
      "750/750 [==============================] - 0s 101us/sample - loss: 0.6913 - accuracy: 0.5307\n",
      "Epoch 93/100\n",
      "750/750 [==============================] - 0s 86us/sample - loss: 0.6913 - accuracy: 0.5307\n",
      "Epoch 94/100\n",
      "750/750 [==============================] - 0s 90us/sample - loss: 0.6913 - accuracy: 0.5307\n",
      "Epoch 95/100\n",
      "750/750 [==============================] - 0s 95us/sample - loss: 0.6913 - accuracy: 0.5307\n",
      "Epoch 96/100\n",
      "750/750 [==============================] - 0s 86us/sample - loss: 0.6913 - accuracy: 0.5307\n",
      "Epoch 97/100\n",
      "750/750 [==============================] - 0s 85us/sample - loss: 0.6913 - accuracy: 0.5307\n",
      "Epoch 98/100\n",
      "750/750 [==============================] - 0s 96us/sample - loss: 0.6913 - accuracy: 0.5307\n",
      "Epoch 99/100\n",
      "750/750 [==============================] - 0s 100us/sample - loss: 0.6913 - accuracy: 0.5307\n",
      "Epoch 100/100\n",
      "750/750 [==============================] - 0s 94us/sample - loss: 0.6913 - accuracy: 0.5307\n"
     ]
    }
   ],
   "source": [
    "# Training the model with the nonlinear data\n",
    "model_moon = nn_model.fit(X_moon_train_scaled, y_moon_train, epochs=100, shuffle=True)"
   ]
  },
  {
   "cell_type": "code",
   "execution_count": 18,
   "metadata": {},
   "outputs": [
    {
     "data": {
      "text/plain": [
       "<matplotlib.axes._subplots.AxesSubplot at 0x7f895c433d90>"
      ]
     },
     "execution_count": 18,
     "metadata": {},
     "output_type": "execute_result"
    },
    {
     "data": {
      "image/png": "[encoded data removed]",
      "text/plain": [
       "<Figure size 432x288 with 1 Axes>"
      ]
     },
     "metadata": {
      "needs_background": "light"
     },
     "output_type": "display_data"
    }
   ],
   "source": [
    "# Create a DataFrame containing training history\n",
    "history_df = pd.DataFrame(model_moon.history, index=range(1,len(model_moon.history[\"loss\"])+1))\n",
    "\n",
    "# Plot the loss\n",
    "history_df.plot(y=\"loss\")"
   ]
  },
  {
   "cell_type": "code",
   "execution_count": 19,
   "metadata": {},
   "outputs": [
    {
     "data": {
      "text/plain": [
       "<matplotlib.axes._subplots.AxesSubplot at 0x7f893dc2b490>"
      ]
     },
     "execution_count": 19,
     "metadata": {},
     "output_type": "execute_result"
    },
    {
     "data": {
      "image/png": "[encoded data removed]",
      "text/plain": [
       "<Figure size 432x288 with 1 Axes>"
      ]
     },
     "metadata": {
      "needs_background": "light"
     },
     "output_type": "display_data"
    }
   ],
   "source": [
    "# Plot the loss\n",
    "history_df.plot(y=\"accuracy\")"
   ]
  },
  {
   "cell_type": "code",
   "execution_count": 20,
   "metadata": {},
   "outputs": [],
   "source": [
    "# Generate our new Sequential model\n",
    "new_model = tf.keras.models.Sequential()"
   ]
  },
  {
   "cell_type": "code",
   "execution_count": 21,
   "metadata": {},
   "outputs": [],
   "source": [
    "# Add the input and hidden layer\n",
    "number_inputs = 2\n",
    "number_hidden_nodes = 6\n",
    "\n",
    "new_model.add(tf.keras.layers.Dense(units=number_hidden_nodes, activation=\"relu\", input_dim=number_inputs))\n",
    "\n",
    "# Add the output layer that uses a probability activation function\n",
    "new_model.add(tf.keras.layers.Dense(units=1, activation=\"sigmoid\"))"
   ]
  },
  {
   "cell_type": "code",
   "execution_count": 22,
   "metadata": {},
   "outputs": [
    {
     "name": "stdout",
     "output_type": "stream",
     "text": [
      "Train on 750 samples\n",
      "Epoch 1/100\n",
      "750/750 [==============================] - 2s 3ms/sample - loss: 0.7935 - accuracy: 0.5320\n",
      "Epoch 2/100\n",
      "750/750 [==============================] - 0s 90us/sample - loss: 0.7288 - accuracy: 0.5587\n",
      "Epoch 3/100\n",
      "750/750 [==============================] - 0s 94us/sample - loss: 0.6751 - accuracy: 0.6133\n",
      "Epoch 4/100\n",
      "750/750 [==============================] - 0s 89us/sample - loss: 0.6287 - accuracy: 0.6507\n",
      "Epoch 5/100\n",
      "750/750 [==============================] - 0s 91us/sample - loss: 0.5884 - accuracy: 0.6960\n",
      "Epoch 6/100\n",
      "750/750 [==============================] - 0s 90us/sample - loss: 0.5547 - accuracy: 0.7227\n",
      "Epoch 7/100\n",
      "750/750 [==============================] - 0s 98us/sample - loss: 0.5253 - accuracy: 0.7387\n",
      "Epoch 8/100\n",
      "750/750 [==============================] - 0s 116us/sample - loss: 0.4987 - accuracy: 0.7440\n",
      "Epoch 9/100\n",
      "750/750 [==============================] - 0s 190us/sample - loss: 0.4757 - accuracy: 0.7560\n",
      "Epoch 10/100\n",
      "750/750 [==============================] - 0s 142us/sample - loss: 0.4544 - accuracy: 0.7640\n",
      "Epoch 11/100\n",
      "750/750 [==============================] - 0s 119us/sample - loss: 0.4349 - accuracy: 0.7853\n",
      "Epoch 12/100\n",
      "750/750 [==============================] - 0s 181us/sample - loss: 0.4172 - accuracy: 0.7973\n",
      "Epoch 13/100\n",
      "750/750 [==============================] - 0s 255us/sample - loss: 0.4008 - accuracy: 0.8093\n",
      "Epoch 14/100\n",
      "750/750 [==============================] - 0s 159us/sample - loss: 0.3859 - accuracy: 0.8293\n",
      "Epoch 15/100\n",
      "750/750 [==============================] - 0s 178us/sample - loss: 0.3727 - accuracy: 0.8493\n",
      "Epoch 16/100\n",
      "750/750 [==============================] - 0s 138us/sample - loss: 0.3604 - accuracy: 0.8653\n",
      "Epoch 17/100\n",
      "750/750 [==============================] - 0s 173us/sample - loss: 0.3492 - accuracy: 0.8787\n",
      "Epoch 18/100\n",
      "750/750 [==============================] - 0s 178us/sample - loss: 0.3389 - accuracy: 0.8867\n",
      "Epoch 19/100\n",
      "750/750 [==============================] - 0s 179us/sample - loss: 0.3298 - accuracy: 0.8960\n",
      "Epoch 20/100\n",
      "750/750 [==============================] - 0s 213us/sample - loss: 0.3216 - accuracy: 0.8987\n",
      "Epoch 21/100\n",
      "750/750 [==============================] - 0s 182us/sample - loss: 0.3139 - accuracy: 0.9000\n",
      "Epoch 22/100\n",
      "750/750 [==============================] - 0s 203us/sample - loss: 0.3074 - accuracy: 0.9040\n",
      "Epoch 23/100\n",
      "750/750 [==============================] - 0s 167us/sample - loss: 0.3014 - accuracy: 0.9040\n",
      "Epoch 24/100\n",
      "750/750 [==============================] - 0s 122us/sample - loss: 0.2958 - accuracy: 0.9040\n",
      "Epoch 25/100\n",
      "750/750 [==============================] - 0s 117us/sample - loss: 0.2908 - accuracy: 0.9040\n",
      "Epoch 26/100\n",
      "750/750 [==============================] - 0s 148us/sample - loss: 0.2861 - accuracy: 0.9040\n",
      "Epoch 27/100\n",
      "750/750 [==============================] - 0s 116us/sample - loss: 0.2820 - accuracy: 0.9027\n",
      "Epoch 28/100\n",
      "750/750 [==============================] - 0s 142us/sample - loss: 0.2783 - accuracy: 0.9027\n",
      "Epoch 29/100\n",
      "750/750 [==============================] - 0s 122us/sample - loss: 0.2752 - accuracy: 0.9027\n",
      "Epoch 30/100\n",
      "750/750 [==============================] - 0s 169us/sample - loss: 0.2723 - accuracy: 0.9027\n",
      "Epoch 31/100\n",
      "750/750 [==============================] - 0s 128us/sample - loss: 0.2696 - accuracy: 0.9027\n",
      "Epoch 32/100\n",
      "750/750 [==============================] - 0s 124us/sample - loss: 0.2672 - accuracy: 0.9000\n",
      "Epoch 33/100\n",
      "750/750 [==============================] - 0s 120us/sample - loss: 0.2649 - accuracy: 0.9013\n",
      "Epoch 34/100\n",
      "750/750 [==============================] - 0s 119us/sample - loss: 0.2629 - accuracy: 0.9000\n",
      "Epoch 35/100\n",
      "750/750 [==============================] - 0s 127us/sample - loss: 0.2612 - accuracy: 0.9013\n",
      "Epoch 36/100\n",
      "750/750 [==============================] - 0s 135us/sample - loss: 0.2595 - accuracy: 0.9000\n",
      "Epoch 37/100\n",
      "750/750 [==============================] - 0s 145us/sample - loss: 0.2581 - accuracy: 0.9000\n",
      "Epoch 38/100\n",
      "750/750 [==============================] - 0s 123us/sample - loss: 0.2567 - accuracy: 0.9013\n",
      "Epoch 39/100\n",
      "750/750 [==============================] - 0s 123us/sample - loss: 0.2555 - accuracy: 0.9013\n",
      "Epoch 40/100\n",
      "750/750 [==============================] - 0s 122us/sample - loss: 0.2544 - accuracy: 0.9013\n",
      "Epoch 41/100\n",
      "750/750 [==============================] - 0s 135us/sample - loss: 0.2534 - accuracy: 0.9013\n",
      "Epoch 42/100\n",
      "750/750 [==============================] - 0s 112us/sample - loss: 0.2525 - accuracy: 0.9013\n",
      "Epoch 43/100\n",
      "750/750 [==============================] - 0s 183us/sample - loss: 0.2516 - accuracy: 0.9013\n",
      "Epoch 44/100\n",
      "750/750 [==============================] - 0s 131us/sample - loss: 0.2507 - accuracy: 0.9013\n",
      "Epoch 45/100\n",
      "750/750 [==============================] - 0s 106us/sample - loss: 0.2499 - accuracy: 0.9013\n",
      "Epoch 46/100\n",
      "750/750 [==============================] - 0s 144us/sample - loss: 0.2491 - accuracy: 0.9027\n",
      "Epoch 47/100\n",
      "750/750 [==============================] - 0s 111us/sample - loss: 0.2483 - accuracy: 0.9027\n",
      "Epoch 48/100\n",
      "750/750 [==============================] - 0s 120us/sample - loss: 0.2477 - accuracy: 0.9013\n",
      "Epoch 49/100\n",
      "750/750 [==============================] - 0s 135us/sample - loss: 0.2469 - accuracy: 0.9027\n",
      "Epoch 50/100\n",
      "750/750 [==============================] - 0s 129us/sample - loss: 0.2462 - accuracy: 0.9027\n",
      "Epoch 51/100\n",
      "750/750 [==============================] - 0s 119us/sample - loss: 0.2456 - accuracy: 0.9027\n",
      "Epoch 52/100\n",
      "750/750 [==============================] - 0s 130us/sample - loss: 0.2449 - accuracy: 0.9040\n",
      "Epoch 53/100\n",
      "750/750 [==============================] - 0s 143us/sample - loss: 0.2443 - accuracy: 0.9027\n",
      "Epoch 54/100\n",
      "750/750 [==============================] - 0s 106us/sample - loss: 0.2437 - accuracy: 0.9027\n",
      "Epoch 55/100\n",
      "750/750 [==============================] - 0s 119us/sample - loss: 0.2431 - accuracy: 0.9053\n",
      "Epoch 56/100\n",
      "750/750 [==============================] - 0s 114us/sample - loss: 0.2425 - accuracy: 0.9040\n",
      "Epoch 57/100\n",
      "750/750 [==============================] - 0s 124us/sample - loss: 0.2419 - accuracy: 0.9040\n",
      "Epoch 58/100\n",
      "750/750 [==============================] - 0s 122us/sample - loss: 0.2414 - accuracy: 0.9040\n",
      "Epoch 59/100\n",
      "750/750 [==============================] - 0s 101us/sample - loss: 0.2409 - accuracy: 0.9040\n",
      "Epoch 60/100\n",
      "750/750 [==============================] - 0s 249us/sample - loss: 0.2403 - accuracy: 0.9053 - loss: 0.2328 - accuracy: 0.\n",
      "Epoch 61/100\n",
      "750/750 [==============================] - 0s 185us/sample - loss: 0.2398 - accuracy: 0.9053\n",
      "Epoch 62/100\n",
      "750/750 [==============================] - 0s 207us/sample - loss: 0.2393 - accuracy: 0.9067 - loss: 0.2424 - accuracy: 0.\n",
      "Epoch 63/100\n",
      "750/750 [==============================] - 0s 174us/sample - loss: 0.2388 - accuracy: 0.9067\n",
      "Epoch 64/100\n",
      "750/750 [==============================] - 0s 172us/sample - loss: 0.2382 - accuracy: 0.9067\n",
      "Epoch 65/100\n",
      "750/750 [==============================] - 0s 157us/sample - loss: 0.2377 - accuracy: 0.9067\n",
      "Epoch 66/100\n",
      "750/750 [==============================] - 0s 130us/sample - loss: 0.2372 - accuracy: 0.9067\n",
      "Epoch 67/100\n",
      "750/750 [==============================] - 0s 121us/sample - loss: 0.2367 - accuracy: 0.9067\n",
      "Epoch 68/100\n",
      "750/750 [==============================] - 0s 135us/sample - loss: 0.2361 - accuracy: 0.9067\n",
      "Epoch 69/100\n",
      "750/750 [==============================] - 0s 146us/sample - loss: 0.2355 - accuracy: 0.9067\n",
      "Epoch 70/100\n",
      "750/750 [==============================] - 0s 157us/sample - loss: 0.2351 - accuracy: 0.9067\n",
      "Epoch 71/100\n",
      "750/750 [==============================] - 0s 133us/sample - loss: 0.2344 - accuracy: 0.9080\n",
      "Epoch 72/100\n",
      "750/750 [==============================] - 0s 131us/sample - loss: 0.2338 - accuracy: 0.9067\n",
      "Epoch 73/100\n",
      "750/750 [==============================] - 0s 136us/sample - loss: 0.2333 - accuracy: 0.9080\n",
      "Epoch 74/100\n",
      "750/750 [==============================] - 0s 141us/sample - loss: 0.2326 - accuracy: 0.9067\n",
      "Epoch 75/100\n",
      "750/750 [==============================] - 0s 143us/sample - loss: 0.2322 - accuracy: 0.9067\n",
      "Epoch 76/100\n",
      "750/750 [==============================] - 0s 140us/sample - loss: 0.2315 - accuracy: 0.9067\n",
      "Epoch 77/100\n",
      "750/750 [==============================] - 0s 102us/sample - loss: 0.2309 - accuracy: 0.9067\n",
      "Epoch 78/100\n",
      "750/750 [==============================] - 0s 120us/sample - loss: 0.2304 - accuracy: 0.9067\n",
      "Epoch 79/100\n",
      "750/750 [==============================] - 0s 171us/sample - loss: 0.2298 - accuracy: 0.9067\n",
      "Epoch 80/100\n",
      "750/750 [==============================] - 0s 115us/sample - loss: 0.2291 - accuracy: 0.9080\n",
      "Epoch 81/100\n",
      "750/750 [==============================] - 0s 121us/sample - loss: 0.2285 - accuracy: 0.9080\n",
      "Epoch 82/100\n",
      "750/750 [==============================] - 0s 121us/sample - loss: 0.2279 - accuracy: 0.9093\n",
      "Epoch 83/100\n",
      "750/750 [==============================] - 0s 133us/sample - loss: 0.2274 - accuracy: 0.9107\n",
      "Epoch 84/100\n",
      "750/750 [==============================] - 0s 102us/sample - loss: 0.2268 - accuracy: 0.9107\n",
      "Epoch 85/100\n",
      "750/750 [==============================] - 0s 133us/sample - loss: 0.2262 - accuracy: 0.9107\n",
      "Epoch 86/100\n",
      "750/750 [==============================] - 0s 104us/sample - loss: 0.2255 - accuracy: 0.9107\n",
      "Epoch 87/100\n",
      "750/750 [==============================] - 0s 143us/sample - loss: 0.2248 - accuracy: 0.9107\n",
      "Epoch 88/100\n",
      "750/750 [==============================] - 0s 108us/sample - loss: 0.2242 - accuracy: 0.9107\n",
      "Epoch 89/100\n",
      "750/750 [==============================] - 0s 122us/sample - loss: 0.2236 - accuracy: 0.9107\n",
      "Epoch 90/100\n",
      "750/750 [==============================] - 0s 118us/sample - loss: 0.2229 - accuracy: 0.9107\n",
      "Epoch 91/100\n",
      "750/750 [==============================] - 0s 222us/sample - loss: 0.2222 - accuracy: 0.9107\n",
      "Epoch 92/100\n",
      "750/750 [==============================] - 0s 162us/sample - loss: 0.2215 - accuracy: 0.9120\n",
      "Epoch 93/100\n",
      "750/750 [==============================] - 0s 216us/sample - loss: 0.2210 - accuracy: 0.9120\n",
      "Epoch 94/100\n",
      "750/750 [==============================] - 0s 138us/sample - loss: 0.2202 - accuracy: 0.9133\n",
      "Epoch 95/100\n",
      "750/750 [==============================] - 0s 133us/sample - loss: 0.2195 - accuracy: 0.9133\n",
      "Epoch 96/100\n",
      "750/750 [==============================] - 0s 206us/sample - loss: 0.2189 - accuracy: 0.9133\n",
      "Epoch 97/100\n",
      "750/750 [==============================] - 0s 154us/sample - loss: 0.2181 - accuracy: 0.9133\n",
      "Epoch 98/100\n",
      "750/750 [==============================] - 0s 120us/sample - loss: 0.2173 - accuracy: 0.9133\n",
      "Epoch 99/100\n",
      "750/750 [==============================] - 0s 204us/sample - loss: 0.2166 - accuracy: 0.9147\n",
      "Epoch 100/100\n",
      "750/750 [==============================] - 0s 173us/sample - loss: 0.2158 - accuracy: 0.9133\n"
     ]
    }
   ],
   "source": [
    "# Compile the Sequential model together and customize metrics\n",
    "new_model.compile(loss=\"binary_crossentropy\", optimizer=\"adam\", metrics=[\"accuracy\"])\n",
    "\n",
    "# Fit the model to the training data\n",
    "new_fit_model = new_model.fit(X_moon_train_scaled, y_moon_train, epochs=100, shuffle=True)"
   ]
  },
  {
   "cell_type": "code",
   "execution_count": null,
   "metadata": {},
   "outputs": [],
   "source": []
  }
 ],
 "metadata": {
  "kernelspec": {
   "display_name": "PythonData",
   "language": "python",
   "name": "pythondata"
  },
  "language_info": {
   "codemirror_mode": {
    "name": "ipython",
    "version": 3
   },
   "file_extension": ".py",
   "mimetype": "text/x-python",
   "name": "python",
   "nbconvert_exporter": "python",
   "pygments_lexer": "ipython3",
   "version": "3.7.7"
  }
 },
 "nbformat": 4,
 "nbformat_minor": 2
}
